{
 "cells": [
  {
   "cell_type": "code",
   "execution_count": 1,
   "id": "formed-registrar",
   "metadata": {},
   "outputs": [],
   "source": [
    "%config Completer.use_jedi = False"
   ]
  },
  {
   "cell_type": "code",
   "execution_count": 2,
   "id": "metropolitan-international",
   "metadata": {},
   "outputs": [],
   "source": [
    "from sqlalchemy import create_engine\n",
    "import pymysql\n",
    "import pandas as pd\n",
    "import pickle\n",
    "import torch\n",
    "import json\n",
    "from itertools import chain\n",
    "from time import time\n",
    "from collections import defaultdict\n",
    "from tqdm import tqdm\n",
    "from sentence_transformers import SentenceTransformer, util,LoggingHandler\n",
    "import logging\n",
    "from script.utils import Config"
   ]
  },
  {
   "cell_type": "code",
   "execution_count": 4,
   "id": "forty-camping",
   "metadata": {},
   "outputs": [],
   "source": [
    "model_save_path = 'script/output/new-pos-samples-pos1.3million-neg1.3million-distilbert-base-nli-mean-tokens-2021-03-11_14-08-37'\n",
    "model_finutuned = SentenceTransformer(model_save_path)"
   ]
  },
  {
   "cell_type": "code",
   "execution_count": 6,
   "id": "victorian-fighter",
   "metadata": {},
   "outputs": [],
   "source": [
    "quick_dis = pickle.load(open('data/model/path_map/quick_dis.bin','rb'))\n",
    "quick_map = pickle.load(open('data/model/path_map/quick_map.bin','rb'))\n",
    "quick_route = pickle.load(open('data/model/path_map/quick_route.bin','rb'))\n",
    "quick_string_map = pickle.load(open('data/model/path_map/quick_string_map.bin','rb'))"
   ]
  },
  {
   "cell_type": "code",
   "execution_count": 47,
   "id": "brief-pickup",
   "metadata": {},
   "outputs": [],
   "source": [
    "def id2sen1(sen_id):\n",
    "    sen1 = [quick_map[v] for v in quick_route[sen_id]]\n",
    "    sen1.reverse()\n",
    "    return sen1"
   ]
  },
  {
   "cell_type": "code",
   "execution_count": 78,
   "id": "graphic-operations",
   "metadata": {},
   "outputs": [],
   "source": [
    "def transformer_rank(sens1_ids,sens2,model,level=2,topk=1):\n",
    "    #get sens1 via index\n",
    "    sens1 = ['-'.join(id2sen1(index)[:level]) for index in sens1_ids]\n",
    "    #Compute embedding for both lists\n",
    "    embeddings1 = model.encode(sens1, convert_to_tensor=True)\n",
    "    embeddings2 = model.encode(sens2, convert_to_tensor=True)\n",
    "    #Compute cosine-similarits\n",
    "    cosine_scores = util.pytorch_cos_sim(embeddings1, embeddings2)\n",
    "    result = defaultdict(list)\n",
    "    tensor, indice = torch.topk(cosine_scores,topk,largest=True)\n",
    "    similar_sents = defaultdict(list)\n",
    "    for i in range(indice.shape[0]):\n",
    "        for j in range(indice.shape[1]):\n",
    "            result[sens1[i]].append((sens2[indice[i,j]],str(cosine_scores[i][indice[i,j]].detach().numpy()))) \n",
    "#             similar_sents.append(all_sents[indice[i,j]])\n",
    "            similar_sents[sens1[i]].append(sens2[indice[i,j]])\n",
    "    return similar_sents"
   ]
  },
  {
   "cell_type": "code",
   "execution_count": 80,
   "id": "olive-snowboard",
   "metadata": {},
   "outputs": [
    {
     "data": {
      "text/plain": [
       "defaultdict(list,\n",
       "            {'Aboriginal law-Aboriginal status and rights': ['all',\n",
       "              'fusion',\n",
       "              'hello'],\n",
       "             'Aboriginal law-Aboriginal status and rights-Aboriginal status': ['all',\n",
       "              'fusion',\n",
       "              'hello']})"
      ]
     },
     "execution_count": 80,
     "metadata": {},
     "output_type": "execute_result"
    }
   ],
   "source": [
    "transformer_rank(['ABR1','ABR5'],['all','hello','fusion'],model_finutuned,4,3)"
   ]
  }
 ],
 "metadata": {
  "kernelspec": {
   "display_name": "Python (myenv)",
   "language": "python",
   "name": "myenv"
  },
  "language_info": {
   "codemirror_mode": {
    "name": "ipython",
    "version": 3
   },
   "file_extension": ".py",
   "mimetype": "text/x-python",
   "name": "python",
   "nbconvert_exporter": "python",
   "pygments_lexer": "ipython3",
   "version": "3.7.9"
  }
 },
 "nbformat": 4,
 "nbformat_minor": 5
}
